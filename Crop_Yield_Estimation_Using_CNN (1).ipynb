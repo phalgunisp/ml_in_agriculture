{
  "nbformat": 4,
  "nbformat_minor": 0,
  "metadata": {
    "colab": {
      "provenance": []
    },
    "kernelspec": {
      "name": "python3",
      "display_name": "Python 3"
    },
    "language_info": {
      "name": "python"
    }
  },
  "cells": [
    {
      "cell_type": "markdown",
      "source": [
        "#Crop Yield Estimation Using Convolutional Neural Network (CNN)\n",
        "\n",
        "Apoorva Hegde\n",
        "\n",
        "Phalguni S P\n",
        "\n",
        "School of Computer Science and Engineering\n",
        "RV University"
      ],
      "metadata": {
        "id": "YblMFjcxk3hd"
      }
    },
    {
      "cell_type": "markdown",
      "source": [
        "##Introduction\n",
        "This project aims to estimate crop yields based on various features, such as weather conditions, using a Convolutional Neural Network (CNN).\n",
        "\n",
        "[Link to the dataset](https://github.com/saeedkhaki92/CNN-RNN-Yield-Prediction/blob/master/corn_samples.csv)"
      ],
      "metadata": {
        "id": "zHDGfPmTlKd5"
      }
    },
    {
      "cell_type": "markdown",
      "source": [
        "Importing libraries"
      ],
      "metadata": {
        "id": "urRLgiqRlVEo"
      }
    },
    {
      "cell_type": "code",
      "source": [
        "import pandas as pd\n",
        "from google.colab import drive\n",
        "import numpy as np\n",
        "from sklearn.model_selection import train_test_split\n",
        "from sklearn.preprocessing import StandardScaler\n",
        "from tensorflow.keras.models import Sequential\n",
        "from tensorflow.keras.layers import Conv1D, Conv2D, MaxPooling2D, Flatten, Dense\n",
        "import seaborn as sns\n",
        "from tensorflow.keras.losses import MeanSquaredError\n",
        "from sklearn.metrics import r2_score\n",
        "import matplotlib.pyplot as plt\n",
        "from sklearn.tree import DecisionTreeRegressor\n",
        "from sklearn.ensemble import RandomForestRegressor\n",
        "from sklearn.metrics import mean_squared_error, mean_absolute_error, r2_score\n",
        "# pip install tensorflow"
      ],
      "metadata": {
        "id": "fIQfCv_eFyWx"
      },
      "execution_count": 83,
      "outputs": []
    },
    {
      "cell_type": "markdown",
      "source": [
        "Mounting the drive"
      ],
      "metadata": {
        "id": "1dcdCBKclcZY"
      }
    },
    {
      "cell_type": "code",
      "execution_count": 84,
      "metadata": {
        "id": "JMdXoXXYFnlB",
        "colab": {
          "base_uri": "https://localhost:8080/"
        },
        "outputId": "0a88cbf6-4528-4356-aa2f-4a38dd5a5c1c"
      },
      "outputs": [
        {
          "output_type": "stream",
          "name": "stdout",
          "text": [
            "Mounted at /content/drive\n"
          ]
        }
      ],
      "source": [
        "drive.mount('/content/drive', force_remount=True)\n",
        "df = pd.read_csv('/content/drive/My Drive/semester 5/ml in agriculture/dataset/corn_samples.csv')\n",
        "\n",
        "# df = pd.read_csv('/content/drive/My Drive/ml in agriculture/dataset/corn_samples.csv') -- Apoorvas Drive Link"
      ]
    },
    {
      "cell_type": "markdown",
      "source": [
        "Exploratory Data Analysis"
      ],
      "metadata": {
        "id": "9djRmeTV1bWa"
      }
    },
    {
      "cell_type": "code",
      "source": [
        "features = df.columns.difference(['loc_ID', 'year', 'yield'])\n",
        "target = 'yield'\n",
        "X = df[features]\n",
        "y = df[target]\n",
        "\n",
        "print(df.head())"
      ],
      "metadata": {
        "colab": {
          "base_uri": "https://localhost:8080/"
        },
        "id": "jHB1y-V3w62T",
        "outputId": "b56ff312-c4e4-48b9-aace-1106984243a4"
      },
      "execution_count": 85,
      "outputs": [
        {
          "output_type": "stream",
          "name": "stdout",
          "text": [
            "   loc_ID  year  yield     W_1_1     W_1_2     W_1_3     W_1_4     W_1_5  \\\n",
            "0       0  1980   82.0  0.274725  0.000000  1.615385  0.395604  0.967033   \n",
            "1       0  1981  116.0  0.604396  0.000000  0.043956  0.000000  0.857143   \n",
            "2       0  1982  124.0  2.098901  0.384615  1.681319  0.527473  6.340659   \n",
            "3       0  1983   46.0  0.000000  0.000000  0.000000  1.032967  4.373626   \n",
            "4       0  1984  103.0  0.000000  0.043956  0.197802  0.461538  0.142857   \n",
            "\n",
            "      W_1_6     W_1_7  ...  P_7  P_8  P_9  P_10  P_11  P_12  P_13  P_14  P_15  \\\n",
            "0  0.736264  1.153846  ...   38   40    8     4     0     0     0     0     0   \n",
            "1  1.824176  0.000000  ...   13   30   16    11    12     7     3     0     0   \n",
            "2  1.593407  1.868132  ...   47   14    5     2     1     0     0     0     0   \n",
            "3  0.351648  0.263736  ...   11   24   22    17     6     5     3     0     0   \n",
            "4  0.670330  4.615385  ...    6   35   33    10     4     8     0     0     0   \n",
            "\n",
            "   P_16  \n",
            "0     0  \n",
            "1     0  \n",
            "2     0  \n",
            "3     0  \n",
            "4     0  \n",
            "\n",
            "[5 rows x 397 columns]\n"
          ]
        }
      ]
    },
    {
      "cell_type": "markdown",
      "source": [
        "Finding the null values."
      ],
      "metadata": {
        "id": "npkLuP-W8qXG"
      }
    },
    {
      "cell_type": "code",
      "source": [
        "missing_counts = df.isnull().sum()\n",
        "print(missing_counts)"
      ],
      "metadata": {
        "colab": {
          "base_uri": "https://localhost:8080/"
        },
        "id": "B_F4Tu7ezXBH",
        "outputId": "a1a403e4-2683-4d09-8ff1-5e970a5d677e"
      },
      "execution_count": 86,
      "outputs": [
        {
          "output_type": "stream",
          "name": "stdout",
          "text": [
            "loc_ID    0\n",
            "year      0\n",
            "yield     0\n",
            "W_1_1     0\n",
            "W_1_2     0\n",
            "         ..\n",
            "P_12      0\n",
            "P_13      0\n",
            "P_14      0\n",
            "P_15      0\n",
            "P_16      0\n",
            "Length: 397, dtype: int64\n"
          ]
        }
      ]
    },
    {
      "cell_type": "markdown",
      "source": [
        "Summary statistics"
      ],
      "metadata": {
        "id": "BQPChMkPxCCD"
      }
    },
    {
      "cell_type": "code",
      "source": [
        "print(df.describe())"
      ],
      "metadata": {
        "colab": {
          "base_uri": "https://localhost:8080/"
        },
        "id": "bLTtHy5H381_",
        "outputId": "94267462-a21f-40ed-8e0c-13fa8ce43c29"
      },
      "execution_count": 87,
      "outputs": [
        {
          "output_type": "stream",
          "name": "stdout",
          "text": [
            "            loc_ID         year        yield        W_1_1        W_1_2  \\\n",
            "count  1499.000000  1499.000000  1499.000000  1499.000000  1499.000000   \n",
            "mean     20.330887  1998.450300   134.860374     2.150339     1.908990   \n",
            "std      12.279725    11.107108    37.967044     3.076419     2.473001   \n",
            "min       0.000000  1980.000000    20.000000     0.000000     0.000000   \n",
            "25%       9.000000  1989.000000   112.000000     0.176347     0.244898   \n",
            "50%      20.000000  1998.000000   136.000000     0.976190     1.053571   \n",
            "75%      31.000000  2008.000000   160.000000     3.066964     2.628827   \n",
            "max      41.000000  2018.000000   246.000000    23.375000    17.178571   \n",
            "\n",
            "             W_1_3        W_1_4        W_1_5        W_1_6        W_1_7  ...  \\\n",
            "count  1499.000000  1499.000000  1499.000000  1499.000000  1499.000000  ...   \n",
            "mean      1.707296     1.489119     2.479094     1.574159     2.081064  ...   \n",
            "std       2.037535     2.141973     3.157675     2.033248     2.424613  ...   \n",
            "min       0.000000     0.000000     0.000000     0.000000     0.000000  ...   \n",
            "25%       0.275510     0.129426     0.252551     0.193367     0.147959  ...   \n",
            "50%       0.959184     0.593407     1.371429     0.857143     1.285714  ...   \n",
            "75%       2.543750     1.871173     3.470238     2.067532     3.255556  ...   \n",
            "max      17.000000    13.233766    19.844156    16.171429    23.761905  ...   \n",
            "\n",
            "               P_7          P_8          P_9         P_10         P_11  \\\n",
            "count  1499.000000  1499.000000  1499.000000  1499.000000  1499.000000   \n",
            "mean     22.638426    17.836558    10.575717     7.839893     3.432288   \n",
            "std      14.370364    11.856028    10.950006     8.923334     4.639319   \n",
            "min       1.000000     2.000000     0.000000     0.000000     0.000000   \n",
            "25%      11.000000     7.000000     3.000000     2.000000     0.000000   \n",
            "50%      20.000000    16.000000     6.000000     4.000000     2.000000   \n",
            "75%      36.000000    24.000000    15.000000    11.000000     5.000000   \n",
            "max      50.000000    48.000000    57.000000    42.000000    20.000000   \n",
            "\n",
            "              P_12         P_13    P_14    P_15    P_16  \n",
            "count  1499.000000  1499.000000  1499.0  1499.0  1499.0  \n",
            "mean      2.452969     0.720480     0.0     0.0     0.0  \n",
            "std       5.181063     2.024859     0.0     0.0     0.0  \n",
            "min       0.000000     0.000000     0.0     0.0     0.0  \n",
            "25%       0.000000     0.000000     0.0     0.0     0.0  \n",
            "50%       0.000000     0.000000     0.0     0.0     0.0  \n",
            "75%       2.000000     0.000000     0.0     0.0     0.0  \n",
            "max      28.000000     9.000000     0.0     0.0     0.0  \n",
            "\n",
            "[8 rows x 397 columns]\n"
          ]
        }
      ]
    },
    {
      "cell_type": "markdown",
      "source": [
        "Pre - Processing the data"
      ],
      "metadata": {
        "id": "WvHmCe5RllKn"
      }
    },
    {
      "cell_type": "code",
      "source": [
        "scaler = StandardScaler()\n",
        "X_scaled = scaler.fit_transform(X)\n",
        "X_train, X_test, y_train, y_test = train_test_split(X_scaled, y, test_size=0.2, random_state=42)"
      ],
      "metadata": {
        "id": "WVXG5XleKPqa"
      },
      "execution_count": 88,
      "outputs": []
    },
    {
      "cell_type": "markdown",
      "source": [
        "Reshape X for CNN input"
      ],
      "metadata": {
        "id": "Eeh-YAhBxPCd"
      }
    },
    {
      "cell_type": "code",
      "source": [
        "X_train_reshaped = X_train.reshape(X_train.shape[0], X_train.shape[1], 1)\n",
        "X_test_reshaped = X_test.reshape(X_test.shape[0], X_test.shape[1], 1)"
      ],
      "metadata": {
        "id": "hJO5lU-jxOZV"
      },
      "execution_count": 89,
      "outputs": []
    },
    {
      "cell_type": "markdown",
      "source": [
        "Printing the Features"
      ],
      "metadata": {
        "id": "A4uDgAB8xTNV"
      }
    },
    {
      "cell_type": "code",
      "source": [
        "features = df.columns.difference(['loc_ID', 'year', 'yield'])\n",
        "print(features)"
      ],
      "metadata": {
        "id": "9_k7NPShOXMr",
        "colab": {
          "base_uri": "https://localhost:8080/"
        },
        "outputId": "269763b3-6eee-46d0-956d-8bcce31c76f1"
      },
      "execution_count": 90,
      "outputs": [
        {
          "output_type": "stream",
          "name": "stdout",
          "text": [
            "Index(['P_1', 'P_10', 'P_11', 'P_12', 'P_13', 'P_14', 'P_15', 'P_16', 'P_2',\n",
            "       'P_3',\n",
            "       ...\n",
            "       'silt_mean_15-30cm', 'silt_mean_30-60cm', 'silt_mean_5-15cm',\n",
            "       'silt_mean_60-100cm', 'soc_mean_0-5cm', 'soc_mean_100-200cm',\n",
            "       'soc_mean_15-30cm', 'soc_mean_30-60cm', 'soc_mean_5-15cm',\n",
            "       'soc_mean_60-100cm'],\n",
            "      dtype='object', length=394)\n"
          ]
        }
      ]
    },
    {
      "cell_type": "markdown",
      "source": [
        "Visualize the distribution of the target variable (yield)"
      ],
      "metadata": {
        "id": "X3HOEN07xYJU"
      }
    },
    {
      "cell_type": "code",
      "source": [
        "plt.figure(figsize=(10, 6))\n",
        "sns.histplot(y, bins=30, kde=True)\n",
        "plt.title('Distribution of Crop Yield')\n",
        "plt.xlabel('Yield')\n",
        "plt.ylabel('Frequency')\n",
        "plt.show()"
      ],
      "metadata": {
        "colab": {
          "base_uri": "https://localhost:8080/",
          "height": 564
        },
        "id": "L19IJ5lwiY8_",
        "outputId": "f269e60f-ecbf-4b6b-d549-962a54519c55"
      },
      "execution_count": 91,
      "outputs": [
        {
          "output_type": "display_data",
          "data": {
            "text/plain": [
              "<Figure size 1000x600 with 1 Axes>"
            ],
            "image/png": "[encoded data removed]"
          },
          "metadata": {}
        }
      ]
    },
    {
      "cell_type": "markdown",
      "source": [
        "Model Building\n",
        "\n",
        "A CNN model is constructed with layers designed to capture complex patterns in the data"
      ],
      "metadata": {
        "id": "DSaeqOqKlsLk"
      }
    },
    {
      "cell_type": "code",
      "source": [
        "model = Sequential([\n",
        "    Conv1D(64, kernel_size=3, activation='relu', input_shape=(X_train_reshaped.shape[1], 1)),\n",
        "    Conv1D(32, kernel_size=3, activation='relu'),\n",
        "    Flatten(),\n",
        "    Dense(128, activation='relu'),\n",
        "    Dense(1)  # Output layer for regression\n",
        "])"
      ],
      "metadata": {
        "id": "p5HfPqXOiGER"
      },
      "execution_count": 92,
      "outputs": []
    },
    {
      "cell_type": "markdown",
      "source": [
        "Compile the model"
      ],
      "metadata": {
        "id": "urbyado3xcIN"
      }
    },
    {
      "cell_type": "code",
      "source": [
        "model.compile(optimizer='adam', loss='mean_squared_error')"
      ],
      "metadata": {
        "id": "0NMqKRpVxdwK"
      },
      "execution_count": 93,
      "outputs": []
    },
    {
      "cell_type": "markdown",
      "source": [
        "Training\n",
        "\n",
        "The model is trained on historical data, learning to map the input features to the crop yield."
      ],
      "metadata": {
        "id": "XEqJO3-XmbpM"
      }
    },
    {
      "cell_type": "code",
      "source": [
        "history = model.fit(X_train_reshaped, y_train, epochs=30, validation_data=(X_test_reshaped, y_test), verbose=2)"
      ],
      "metadata": {
        "id": "dEj9OqrhmX4M",
        "colab": {
          "base_uri": "https://localhost:8080/"
        },
        "outputId": "0fd814f2-1abf-4e4d-fd14-ebde608cf0a6"
      },
      "execution_count": 94,
      "outputs": [
        {
          "output_type": "stream",
          "name": "stdout",
          "text": [
            "Epoch 1/30\n",
            "38/38 - 3s - loss: 5574.6685 - val_loss: 1961.2271 - 3s/epoch - 86ms/step\n",
            "Epoch 2/30\n",
            "38/38 - 2s - loss: 1331.8711 - val_loss: 1189.9821 - 2s/epoch - 53ms/step\n",
            "Epoch 3/30\n",
            "38/38 - 2s - loss: 859.0689 - val_loss: 734.0316 - 2s/epoch - 64ms/step\n",
            "Epoch 4/30\n",
            "38/38 - 2s - loss: 464.6548 - val_loss: 373.0402 - 2s/epoch - 63ms/step\n",
            "Epoch 5/30\n",
            "38/38 - 3s - loss: 269.7531 - val_loss: 274.2711 - 3s/epoch - 74ms/step\n",
            "Epoch 6/30\n",
            "38/38 - 2s - loss: 216.7847 - val_loss: 302.9475 - 2s/epoch - 51ms/step\n",
            "Epoch 7/30\n",
            "38/38 - 2s - loss: 187.7041 - val_loss: 209.4961 - 2s/epoch - 44ms/step\n",
            "Epoch 8/30\n",
            "38/38 - 2s - loss: 172.1929 - val_loss: 196.1920 - 2s/epoch - 44ms/step\n",
            "Epoch 9/30\n",
            "38/38 - 2s - loss: 162.8912 - val_loss: 225.6833 - 2s/epoch - 46ms/step\n",
            "Epoch 10/30\n",
            "38/38 - 2s - loss: 159.3649 - val_loss: 173.1569 - 2s/epoch - 45ms/step\n",
            "Epoch 11/30\n",
            "38/38 - 2s - loss: 142.5116 - val_loss: 162.3681 - 2s/epoch - 46ms/step\n",
            "Epoch 12/30\n",
            "38/38 - 3s - loss: 135.2497 - val_loss: 158.7223 - 3s/epoch - 76ms/step\n",
            "Epoch 13/30\n",
            "38/38 - 3s - loss: 147.1120 - val_loss: 199.7291 - 3s/epoch - 76ms/step\n",
            "Epoch 14/30\n",
            "38/38 - 2s - loss: 132.2698 - val_loss: 153.2157 - 2s/epoch - 44ms/step\n",
            "Epoch 15/30\n",
            "38/38 - 3s - loss: 124.6752 - val_loss: 154.8225 - 3s/epoch - 71ms/step\n",
            "Epoch 16/30\n",
            "38/38 - 2s - loss: 114.1555 - val_loss: 142.5390 - 2s/epoch - 44ms/step\n",
            "Epoch 17/30\n",
            "38/38 - 2s - loss: 108.9773 - val_loss: 140.6924 - 2s/epoch - 41ms/step\n",
            "Epoch 18/30\n",
            "38/38 - 2s - loss: 113.5423 - val_loss: 148.0121 - 2s/epoch - 43ms/step\n",
            "Epoch 19/30\n",
            "38/38 - 2s - loss: 105.1450 - val_loss: 141.9312 - 2s/epoch - 60ms/step\n",
            "Epoch 20/30\n",
            "38/38 - 3s - loss: 119.3439 - val_loss: 133.2785 - 3s/epoch - 72ms/step\n",
            "Epoch 21/30\n",
            "38/38 - 2s - loss: 102.2204 - val_loss: 144.4428 - 2s/epoch - 45ms/step\n",
            "Epoch 22/30\n",
            "38/38 - 2s - loss: 98.3168 - val_loss: 129.9629 - 2s/epoch - 44ms/step\n",
            "Epoch 23/30\n",
            "38/38 - 2s - loss: 96.9249 - val_loss: 132.2138 - 2s/epoch - 43ms/step\n",
            "Epoch 24/30\n",
            "38/38 - 2s - loss: 90.8662 - val_loss: 128.2056 - 2s/epoch - 41ms/step\n",
            "Epoch 25/30\n",
            "38/38 - 2s - loss: 90.1759 - val_loss: 133.3204 - 2s/epoch - 41ms/step\n",
            "Epoch 26/30\n",
            "38/38 - 2s - loss: 92.8382 - val_loss: 144.8873 - 2s/epoch - 41ms/step\n",
            "Epoch 27/30\n",
            "38/38 - 2s - loss: 89.8173 - val_loss: 148.3145 - 2s/epoch - 60ms/step\n",
            "Epoch 28/30\n",
            "38/38 - 3s - loss: 85.8814 - val_loss: 127.6917 - 3s/epoch - 72ms/step\n",
            "Epoch 29/30\n",
            "38/38 - 2s - loss: 85.5043 - val_loss: 126.9132 - 2s/epoch - 59ms/step\n",
            "Epoch 30/30\n",
            "38/38 - 2s - loss: 88.1142 - val_loss: 121.7657 - 2s/epoch - 46ms/step\n"
          ]
        }
      ]
    },
    {
      "cell_type": "markdown",
      "source": [
        "Evaluation\n",
        "\n",
        "The model's performance is evaluated using R-squared (R²) metrics."
      ],
      "metadata": {
        "id": "eQlwN43JmhFk"
      }
    },
    {
      "cell_type": "code",
      "source": [
        "y_pred = model.predict(X_test_reshaped)\n",
        "\n",
        "r2 = r2_score(y_test, y_pred)\n",
        "mse = mean_squared_error(y_test, y_pred)\n",
        "rmse = np.sqrt(mse)\n",
        "mae = mean_absolute_error(y_test, y_pred)"
      ],
      "metadata": {
        "id": "15vWfQS4meca",
        "colab": {
          "base_uri": "https://localhost:8080/"
        },
        "outputId": "32b42859-427b-449e-e6a0-6826b453fc11"
      },
      "execution_count": 95,
      "outputs": [
        {
          "output_type": "stream",
          "name": "stdout",
          "text": [
            "10/10 [==============================] - 0s 16ms/step\n"
          ]
        }
      ]
    },
    {
      "cell_type": "code",
      "source": [
        "print(f\"R-squared (R²): {r2:.2f}\")\n",
        "print(f\"Mean Squared Error (MSE): {mse:.2f}\")\n",
        "print(f\"Root Mean Squared Error (RMSE): {rmse:.2f}\")\n",
        "print(f\"Mean Absolute Error (MAE): {mae:.2f}\")"
      ],
      "metadata": {
        "colab": {
          "base_uri": "https://localhost:8080/"
        },
        "id": "Ek3LzLuBMaGW",
        "outputId": "f8032d95-1f5f-4f9b-fd44-cb950adefd17"
      },
      "execution_count": 96,
      "outputs": [
        {
          "output_type": "stream",
          "name": "stdout",
          "text": [
            "R-squared (R²): 0.92\n",
            "Mean Squared Error (MSE): 121.77\n",
            "Root Mean Squared Error (RMSE): 11.03\n",
            "Mean Absolute Error (MAE): 8.81\n"
          ]
        }
      ]
    },
    {
      "cell_type": "markdown",
      "source": [
        "Final Training and Validation Loss"
      ],
      "metadata": {
        "id": "k8t_psRRwLIZ"
      }
    },
    {
      "cell_type": "markdown",
      "source": [
        "To compare the accuracies in terms of training and validation loss for the CNN model, we can plot these loss values over the epochs. This will provide insights into how well the model is learning and generalizing to the validation data.\n"
      ],
      "metadata": {
        "id": "cZAvyHxswW6O"
      }
    },
    {
      "cell_type": "markdown",
      "source": [
        "Plot training & validation loss values"
      ],
      "metadata": {
        "id": "Wi_IbmexxtUu"
      }
    },
    {
      "cell_type": "code",
      "source": [
        "plt.figure(figsize=(10, 6))\n",
        "plt.plot(history.history['loss'], label='Training Loss', color='blue', linestyle='-', linewidth=2)\n",
        "plt.plot(history.history['val_loss'], label='Validation Loss', color='orange', linestyle='--', linewidth=2)\n",
        "plt.title('Model Training and Validation Loss')\n",
        "plt.xlabel('Epoch')\n",
        "plt.ylabel('Loss')\n",
        "plt.legend(loc='upper right')\n",
        "plt.grid(True)\n",
        "plt.show()"
      ],
      "metadata": {
        "colab": {
          "base_uri": "https://localhost:8080/",
          "height": 564
        },
        "id": "3rUOmBwfwShh",
        "outputId": "4a6175c4-2079-4adc-a6b3-a536337487f7"
      },
      "execution_count": 97,
      "outputs": [
        {
          "output_type": "display_data",
          "data": {
            "text/plain": [
              "<Figure size 1000x600 with 1 Axes>"
            ],
            "image/png": "[encoded data removed]"
          },
          "metadata": {}
        }
      ]
    },
    {
      "cell_type": "markdown",
      "source": [
        "Make Predictions and Compare with Actual Yields\n",
        "\n",
        "\n",
        "This code makes predictions on the test set and compares them with the actual yields, providing a way to assess the model's performance."
      ],
      "metadata": {
        "id": "gg_6T6uqntFS"
      }
    },
    {
      "cell_type": "code",
      "source": [
        "comparison = pd.DataFrame({'Actual': y_test, 'Predicted': y_pred.flatten()})\n",
        "comparison.head()"
      ],
      "metadata": {
        "id": "GoK7aodwijcT",
        "colab": {
          "base_uri": "https://localhost:8080/",
          "height": 206
        },
        "outputId": "8d86fe2c-614b-4dcf-ef4e-8de02b396e45"
      },
      "execution_count": 98,
      "outputs": [
        {
          "output_type": "execute_result",
          "data": {
            "text/plain": [
              "      Actual   Predicted\n",
              "1116   137.0  113.485588\n",
              "1395   118.4  118.047783\n",
              "422     50.0   70.121819\n",
              "413    199.8  190.954605\n",
              "451     51.1   60.974403"
            ],
            "text/html": [
              "\n",
              "  <div id=\"df-5512879a-92a9-4f65-a511-e241a3ade081\" class=\"colab-df-container\">\n",
              "    <div>\n",
              "<style scoped>\n",
              "    .dataframe tbody tr th:only-of-type {\n",
              "        vertical-align: middle;\n",
              "    }\n",
              "\n",
              "    .dataframe tbody tr th {\n",
              "        vertical-align: top;\n",
              "    }\n",
              "\n",
              "    .dataframe thead th {\n",
              "        text-align: right;\n",
              "    }\n",
              "</style>\n",
              "<table border=\"1\" class=\"dataframe\">\n",
              "  <thead>\n",
              "    <tr style=\"text-align: right;\">\n",
              "      <th></th>\n",
              "      <th>Actual</th>\n",
              "      <th>Predicted</th>\n",
              "    </tr>\n",
              "  </thead>\n",
              "  <tbody>\n",
              "    <tr>\n",
              "      <th>1116</th>\n",
              "      <td>137.0</td>\n",
              "      <td>113.485588</td>\n",
              "    </tr>\n",
              "    <tr>\n",
              "      <th>1395</th>\n",
              "      <td>118.4</td>\n",
              "      <td>118.047783</td>\n",
              "    </tr>\n",
              "    <tr>\n",
              "      <th>422</th>\n",
              "      <td>50.0</td>\n",
              "      <td>70.121819</td>\n",
              "    </tr>\n",
              "    <tr>\n",
              "      <th>413</th>\n",
              "      <td>199.8</td>\n",
              "      <td>190.954605</td>\n",
              "    </tr>\n",
              "    <tr>\n",
              "      <th>451</th>\n",
              "      <td>51.1</td>\n",
              "      <td>60.974403</td>\n",
              "    </tr>\n",
              "  </tbody>\n",
              "</table>\n",
              "</div>\n",
              "    <div class=\"colab-df-buttons\">\n",
              "\n",
              "  <div class=\"colab-df-container\">\n",
              "    <button class=\"colab-df-convert\" onclick=\"convertToInteractive('df-5512879a-92a9-4f65-a511-e241a3ade081')\"\n",
              "            title=\"Convert this dataframe to an interactive table.\"\n",
              "            style=\"display:none;\">\n",
              "\n",
              "  <svg xmlns=\"http://www.w3.org/2000/svg\" height=\"24px\" viewBox=\"0 -960 960 960\">\n",
              "    <path d=\"M120-120v-720h720v720H120Zm60-500h600v-160H180v160Zm220 220h160v-160H400v160Zm0 220h160v-160H400v160ZM180-400h160v-160H180v160Zm440 0h160v-160H620v160ZM180-180h160v-160H180v160Zm440 0h160v-160H620v160Z\"/>\n",
              "  </svg>\n",
              "    </button>\n",
              "\n",
              "  <style>\n",
              "    .colab-df-container {\n",
              "      display:flex;\n",
              "      gap: 12px;\n",
              "    }\n",
              "\n",
              "    .colab-df-convert {\n",
              "      background-color: #E8F0FE;\n",
              "      border: none;\n",
              "      border-radius: 50%;\n",
              "      cursor: pointer;\n",
              "      display: none;\n",
              "      fill: #1967D2;\n",
              "      height: 32px;\n",
              "      padding: 0 0 0 0;\n",
              "      width: 32px;\n",
              "    }\n",
              "\n",
              "    .colab-df-convert:hover {\n",
              "      background-color: #E2EBFA;\n",
              "      box-shadow: 0px 1px 2px rgba(60, 64, 67, 0.3), 0px 1px 3px 1px rgba(60, 64, 67, 0.15);\n",
              "      fill: #174EA6;\n",
              "    }\n",
              "\n",
              "    .colab-df-buttons div {\n",
              "      margin-bottom: 4px;\n",
              "    }\n",
              "\n",
              "    [theme=dark] .colab-df-convert {\n",
              "      background-color: #3B4455;\n",
              "      fill: #D2E3FC;\n",
              "    }\n",
              "\n",
              "    [theme=dark] .colab-df-convert:hover {\n",
              "      background-color: #434B5C;\n",
              "      box-shadow: 0px 1px 3px 1px rgba(0, 0, 0, 0.15);\n",
              "      filter: drop-shadow(0px 1px 2px rgba(0, 0, 0, 0.3));\n",
              "      fill: #FFFFFF;\n",
              "    }\n",
              "  </style>\n",
              "\n",
              "    <script>\n",
              "      const buttonEl =\n",
              "        document.querySelector('#df-5512879a-92a9-4f65-a511-e241a3ade081 button.colab-df-convert');\n",
              "      buttonEl.style.display =\n",
              "        google.colab.kernel.accessAllowed ? 'block' : 'none';\n",
              "\n",
              "      async function convertToInteractive(key) {\n",
              "        const element = document.querySelector('#df-5512879a-92a9-4f65-a511-e241a3ade081');\n",
              "        const dataTable =\n",
              "          await google.colab.kernel.invokeFunction('convertToInteractive',\n",
              "                                                    [key], {});\n",
              "        if (!dataTable) return;\n",
              "\n",
              "        const docLinkHtml = 'Like what you see? Visit the ' +\n",
              "          '<a target=\"_blank\" href=https://colab.research.google.com/notebooks/data_table.ipynb>data table notebook</a>'\n",
              "          + ' to learn more about interactive tables.';\n",
              "        element.innerHTML = '';\n",
              "        dataTable['output_type'] = 'display_data';\n",
              "        await google.colab.output.renderOutput(dataTable, element);\n",
              "        const docLink = document.createElement('div');\n",
              "        docLink.innerHTML = docLinkHtml;\n",
              "        element.appendChild(docLink);\n",
              "      }\n",
              "    </script>\n",
              "  </div>\n",
              "\n",
              "\n",
              "<div id=\"df-11d8c21d-2ba5-459e-b4c0-de958e927079\">\n",
              "  <button class=\"colab-df-quickchart\" onclick=\"quickchart('df-11d8c21d-2ba5-459e-b4c0-de958e927079')\"\n",
              "            title=\"Suggest charts\"\n",
              "            style=\"display:none;\">\n",
              "\n",
              "<svg xmlns=\"http://www.w3.org/2000/svg\" height=\"24px\"viewBox=\"0 0 24 24\"\n",
              "     width=\"24px\">\n",
              "    <g>\n",
              "        <path d=\"M19 3H5c-1.1 0-2 .9-2 2v14c0 1.1.9 2 2 2h14c1.1 0 2-.9 2-2V5c0-1.1-.9-2-2-2zM9 17H7v-7h2v7zm4 0h-2V7h2v10zm4 0h-2v-4h2v4z\"/>\n",
              "    </g>\n",
              "</svg>\n",
              "  </button>\n",
              "\n",
              "<style>\n",
              "  .colab-df-quickchart {\n",
              "      --bg-color: #E8F0FE;\n",
              "      --fill-color: #1967D2;\n",
              "      --hover-bg-color: #E2EBFA;\n",
              "      --hover-fill-color: #174EA6;\n",
              "      --disabled-fill-color: #AAA;\n",
              "      --disabled-bg-color: #DDD;\n",
              "  }\n",
              "\n",
              "  [theme=dark] .colab-df-quickchart {\n",
              "      --bg-color: #3B4455;\n",
              "      --fill-color: #D2E3FC;\n",
              "      --hover-bg-color: #434B5C;\n",
              "      --hover-fill-color: #FFFFFF;\n",
              "      --disabled-bg-color: #3B4455;\n",
              "      --disabled-fill-color: #666;\n",
              "  }\n",
              "\n",
              "  .colab-df-quickchart {\n",
              "    background-color: var(--bg-color);\n",
              "    border: none;\n",
              "    border-radius: 50%;\n",
              "    cursor: pointer;\n",
              "    display: none;\n",
              "    fill: var(--fill-color);\n",
              "    height: 32px;\n",
              "    padding: 0;\n",
              "    width: 32px;\n",
              "  }\n",
              "\n",
              "  .colab-df-quickchart:hover {\n",
              "    background-color: var(--hover-bg-color);\n",
              "    box-shadow: 0 1px 2px rgba(60, 64, 67, 0.3), 0 1px 3px 1px rgba(60, 64, 67, 0.15);\n",
              "    fill: var(--button-hover-fill-color);\n",
              "  }\n",
              "\n",
              "  .colab-df-quickchart-complete:disabled,\n",
              "  .colab-df-quickchart-complete:disabled:hover {\n",
              "    background-color: var(--disabled-bg-color);\n",
              "    fill: var(--disabled-fill-color);\n",
              "    box-shadow: none;\n",
              "  }\n",
              "\n",
              "  .colab-df-spinner {\n",
              "    border: 2px solid var(--fill-color);\n",
              "    border-color: transparent;\n",
              "    border-bottom-color: var(--fill-color);\n",
              "    animation:\n",
              "      spin 1s steps(1) infinite;\n",
              "  }\n",
              "\n",
              "  @keyframes spin {\n",
              "    0% {\n",
              "      border-color: transparent;\n",
              "      border-bottom-color: var(--fill-color);\n",
              "      border-left-color: var(--fill-color);\n",
              "    }\n",
              "    20% {\n",
              "      border-color: transparent;\n",
              "      border-left-color: var(--fill-color);\n",
              "      border-top-color: var(--fill-color);\n",
              "    }\n",
              "    30% {\n",
              "      border-color: transparent;\n",
              "      border-left-color: var(--fill-color);\n",
              "      border-top-color: var(--fill-color);\n",
              "      border-right-color: var(--fill-color);\n",
              "    }\n",
              "    40% {\n",
              "      border-color: transparent;\n",
              "      border-right-color: var(--fill-color);\n",
              "      border-top-color: var(--fill-color);\n",
              "    }\n",
              "    60% {\n",
              "      border-color: transparent;\n",
              "      border-right-color: var(--fill-color);\n",
              "    }\n",
              "    80% {\n",
              "      border-color: transparent;\n",
              "      border-right-color: var(--fill-color);\n",
              "      border-bottom-color: var(--fill-color);\n",
              "    }\n",
              "    90% {\n",
              "      border-color: transparent;\n",
              "      border-bottom-color: var(--fill-color);\n",
              "    }\n",
              "  }\n",
              "</style>\n",
              "\n",
              "  <script>\n",
              "    async function quickchart(key) {\n",
              "      const quickchartButtonEl =\n",
              "        document.querySelector('#' + key + ' button');\n",
              "      quickchartButtonEl.disabled = true;  // To prevent multiple clicks.\n",
              "      quickchartButtonEl.classList.add('colab-df-spinner');\n",
              "      try {\n",
              "        const charts = await google.colab.kernel.invokeFunction(\n",
              "            'suggestCharts', [key], {});\n",
              "      } catch (error) {\n",
              "        console.error('Error during call to suggestCharts:', error);\n",
              "      }\n",
              "      quickchartButtonEl.classList.remove('colab-df-spinner');\n",
              "      quickchartButtonEl.classList.add('colab-df-quickchart-complete');\n",
              "    }\n",
              "    (() => {\n",
              "      let quickchartButtonEl =\n",
              "        document.querySelector('#df-11d8c21d-2ba5-459e-b4c0-de958e927079 button');\n",
              "      quickchartButtonEl.style.display =\n",
              "        google.colab.kernel.accessAllowed ? 'block' : 'none';\n",
              "    })();\n",
              "  </script>\n",
              "</div>\n",
              "\n",
              "    </div>\n",
              "  </div>\n"
            ],
            "application/vnd.google.colaboratory.intrinsic+json": {
              "type": "dataframe",
              "variable_name": "comparison",
              "summary": "{\n  \"name\": \"comparison\",\n  \"rows\": 300,\n  \"fields\": [\n    {\n      \"column\": \"Actual\",\n      \"properties\": {\n        \"dtype\": \"number\",\n        \"std\": 38.52759763017584,\n        \"min\": 30.0,\n        \"max\": 246.0,\n        \"num_unique_values\": 162,\n        \"samples\": [\n          160.0,\n          166.7,\n          234.3\n        ],\n        \"semantic_type\": \"\",\n        \"description\": \"\"\n      }\n    },\n    {\n      \"column\": \"Predicted\",\n      \"properties\": {\n        \"dtype\": \"float32\",\n        \"num_unique_values\": 300,\n        \"samples\": [\n          76.2989730834961,\n          132.02305603027344,\n          102.99822998046875\n        ],\n        \"semantic_type\": \"\",\n        \"description\": \"\"\n      }\n    }\n  ]\n}"
            }
          },
          "metadata": {},
          "execution_count": 98
        }
      ]
    },
    {
      "cell_type": "markdown",
      "source": [
        "Results Visualization\n",
        "\n",
        "The predicted yields are plotted against the actual yields to visualize the model's performance."
      ],
      "metadata": {
        "id": "AaHjLg4EnHjx"
      }
    },
    {
      "cell_type": "code",
      "source": [
        "plt.figure(figsize=(10, 6))\n",
        "plt.scatter(y_test, y_pred, alpha=0.6)\n",
        "plt.plot([y_test.min(), y_test.max()], [y_test.min(), y_test.max()], 'r--')  # Line of perfect prediction\n",
        "plt.xlabel('Actual Yield')\n",
        "plt.ylabel('Predicted Yield')\n",
        "plt.title('Actual vs Predicted Yield')\n",
        "plt.show()"
      ],
      "metadata": {
        "id": "2K80EKqKimie",
        "colab": {
          "base_uri": "https://localhost:8080/",
          "height": 564
        },
        "outputId": "ee062a63-dd5e-400f-e9e5-34ea4b6b54f7"
      },
      "execution_count": 99,
      "outputs": [
        {
          "output_type": "display_data",
          "data": {
            "text/plain": [
              "<Figure size 1000x600 with 1 Axes>"
            ],
            "image/png": "[encoded data removed]"
          },
          "metadata": {}
        }
      ]
    },
    {
      "cell_type": "markdown",
      "source": [
        "#Comparing CNN to other Machine Learning ALgorithms"
      ],
      "metadata": {
        "id": "23G5bhfwakze"
      }
    },
    {
      "cell_type": "markdown",
      "source": [
        "##Decision Tree Regressor\n",
        "\n",
        "We implement the Decision Tree Regressor to predict the crop yield. The model is trained and then evaluated using the R-squared (R²) metric."
      ],
      "metadata": {
        "id": "RHI0hG9xaes3"
      }
    },
    {
      "cell_type": "code",
      "source": [
        "dt_regressor = DecisionTreeRegressor(random_state=42)\n",
        "dt_regressor.fit(X_train, y_train)"
      ],
      "metadata": {
        "id": "ai5CCq1MabBO",
        "colab": {
          "base_uri": "https://localhost:8080/",
          "height": 75
        },
        "outputId": "bd4c9973-6e9a-4527-b6d1-656884bc17a0"
      },
      "execution_count": 100,
      "outputs": [
        {
          "output_type": "execute_result",
          "data": {
            "text/plain": [
              "DecisionTreeRegressor(random_state=42)"
            ],
            "text/html": [
              "<style>#sk-container-id-7 {color: black;}#sk-container-id-7 pre{padding: 0;}#sk-container-id-7 div.sk-toggleable {background-color: white;}#sk-container-id-7 label.sk-toggleable__label {cursor: pointer;display: block;width: 100%;margin-bottom: 0;padding: 0.3em;box-sizing: border-box;text-align: center;}#sk-container-id-7 label.sk-toggleable__label-arrow:before {content: \"▸\";float: left;margin-right: 0.25em;color: #696969;}#sk-container-id-7 label.sk-toggleable__label-arrow:hover:before {color: black;}#sk-container-id-7 div.sk-estimator:hover label.sk-toggleable__label-arrow:before {color: black;}#sk-container-id-7 div.sk-toggleable__content {max-height: 0;max-width: 0;overflow: hidden;text-align: left;background-color: #f0f8ff;}#sk-container-id-7 div.sk-toggleable__content pre {margin: 0.2em;color: black;border-radius: 0.25em;background-color: #f0f8ff;}#sk-container-id-7 input.sk-toggleable__control:checked~div.sk-toggleable__content {max-height: 200px;max-width: 100%;overflow: auto;}#sk-container-id-7 input.sk-toggleable__control:checked~label.sk-toggleable__label-arrow:before {content: \"▾\";}#sk-container-id-7 div.sk-estimator input.sk-toggleable__control:checked~label.sk-toggleable__label {background-color: #d4ebff;}#sk-container-id-7 div.sk-label input.sk-toggleable__control:checked~label.sk-toggleable__label {background-color: #d4ebff;}#sk-container-id-7 input.sk-hidden--visually {border: 0;clip: rect(1px 1px 1px 1px);clip: rect(1px, 1px, 1px, 1px);height: 1px;margin: -1px;overflow: hidden;padding: 0;position: absolute;width: 1px;}#sk-container-id-7 div.sk-estimator {font-family: monospace;background-color: #f0f8ff;border: 1px dotted black;border-radius: 0.25em;box-sizing: border-box;margin-bottom: 0.5em;}#sk-container-id-7 div.sk-estimator:hover {background-color: #d4ebff;}#sk-container-id-7 div.sk-parallel-item::after {content: \"\";width: 100%;border-bottom: 1px solid gray;flex-grow: 1;}#sk-container-id-7 div.sk-label:hover label.sk-toggleable__label {background-color: #d4ebff;}#sk-container-id-7 div.sk-serial::before {content: \"\";position: absolute;border-left: 1px solid gray;box-sizing: border-box;top: 0;bottom: 0;left: 50%;z-index: 0;}#sk-container-id-7 div.sk-serial {display: flex;flex-direction: column;align-items: center;background-color: white;padding-right: 0.2em;padding-left: 0.2em;position: relative;}#sk-container-id-7 div.sk-item {position: relative;z-index: 1;}#sk-container-id-7 div.sk-parallel {display: flex;align-items: stretch;justify-content: center;background-color: white;position: relative;}#sk-container-id-7 div.sk-item::before, #sk-container-id-7 div.sk-parallel-item::before {content: \"\";position: absolute;border-left: 1px solid gray;box-sizing: border-box;top: 0;bottom: 0;left: 50%;z-index: -1;}#sk-container-id-7 div.sk-parallel-item {display: flex;flex-direction: column;z-index: 1;position: relative;background-color: white;}#sk-container-id-7 div.sk-parallel-item:first-child::after {align-self: flex-end;width: 50%;}#sk-container-id-7 div.sk-parallel-item:last-child::after {align-self: flex-start;width: 50%;}#sk-container-id-7 div.sk-parallel-item:only-child::after {width: 0;}#sk-container-id-7 div.sk-dashed-wrapped {border: 1px dashed gray;margin: 0 0.4em 0.5em 0.4em;box-sizing: border-box;padding-bottom: 0.4em;background-color: white;}#sk-container-id-7 div.sk-label label {font-family: monospace;font-weight: bold;display: inline-block;line-height: 1.2em;}#sk-container-id-7 div.sk-label-container {text-align: center;}#sk-container-id-7 div.sk-container {/* jupyter's `normalize.less` sets `[hidden] { display: none; }` but bootstrap.min.css set `[hidden] { display: none !important; }` so we also need the `!important` here to be able to override the default hidden behavior on the sphinx rendered scikit-learn.org. See: https://github.com/scikit-learn/scikit-learn/issues/21755 */display: inline-block !important;position: relative;}#sk-container-id-7 div.sk-text-repr-fallback {display: none;}</style><div id=\"sk-container-id-7\" class=\"sk-top-container\"><div class=\"sk-text-repr-fallback\"><pre>DecisionTreeRegressor(random_state=42)</pre><b>In a Jupyter environment, please rerun this cell to show the HTML representation or trust the notebook. <br />On GitHub, the HTML representation is unable to render, please try loading this page with nbviewer.org.</b></div><div class=\"sk-container\" hidden><div class=\"sk-item\"><div class=\"sk-estimator sk-toggleable\"><input class=\"sk-toggleable__control sk-hidden--visually\" id=\"sk-estimator-id-7\" type=\"checkbox\" checked><label for=\"sk-estimator-id-7\" class=\"sk-toggleable__label sk-toggleable__label-arrow\">DecisionTreeRegressor</label><div class=\"sk-toggleable__content\"><pre>DecisionTreeRegressor(random_state=42)</pre></div></div></div></div></div>"
            ]
          },
          "metadata": {},
          "execution_count": 100
        }
      ]
    },
    {
      "cell_type": "markdown",
      "source": [
        "Evaluating Decision Tree Regressor"
      ],
      "metadata": {
        "id": "e3hofBPIx3nf"
      }
    },
    {
      "cell_type": "code",
      "source": [
        "y_pred_dt = dt_regressor.predict(X_test)\n",
        "r2_dt = r2_score(y_test, y_pred_dt)\n",
        "mse_dt = mean_squared_error(y_test, y_pred_dt)\n",
        "rmse_dt = np.sqrt(mse_dt)\n",
        "mae_dt = mean_absolute_error(y_test, y_pred_dt)"
      ],
      "metadata": {
        "id": "XN7aFB8Qx5kI"
      },
      "execution_count": 101,
      "outputs": []
    },
    {
      "cell_type": "code",
      "source": [
        "print(\"Decision Tree Regressor Performance:\")\n",
        "print(f\"R-squared (R²): {r2_dt:.2f}\")\n",
        "print(f\"Mean Squared Error (MSE): {mse_dt:.2f}\")\n",
        "print(f\"Root Mean Squared Error (RMSE): {rmse_dt:.2f}\")\n",
        "print(f\"Mean Absolute Error (MAE): {mae_dt:.2f}\")"
      ],
      "metadata": {
        "colab": {
          "base_uri": "https://localhost:8080/"
        },
        "id": "5pfazotuNvCY",
        "outputId": "0e90d6eb-951d-4cce-b8ce-185e5c78bd95"
      },
      "execution_count": 102,
      "outputs": [
        {
          "output_type": "stream",
          "name": "stdout",
          "text": [
            "Decision Tree Regressor Performance:\n",
            "R-squared (R²): 0.74\n",
            "Mean Squared Error (MSE): 390.24\n",
            "Root Mean Squared Error (RMSE): 19.75\n",
            "Mean Absolute Error (MAE): 14.71\n"
          ]
        }
      ]
    },
    {
      "cell_type": "markdown",
      "source": [
        "##Random Forest Regressor\n",
        "\n",
        "We implement the Random Forest Regressor to predict the crop yield. The model is trained and then evaluated using the R-squared (R²) metric.\n",
        "\n"
      ],
      "metadata": {
        "id": "7LSt-P04ahTD"
      }
    },
    {
      "cell_type": "code",
      "source": [
        "rf_regressor = RandomForestRegressor(n_estimators=100, random_state=42)\n",
        "rf_regressor.fit(X_train, y_train)"
      ],
      "metadata": {
        "id": "H-ruCM70ajuV",
        "colab": {
          "base_uri": "https://localhost:8080/",
          "height": 75
        },
        "outputId": "1406a3fd-8ae0-494a-d2f9-6f0eb5ef3af6"
      },
      "execution_count": 103,
      "outputs": [
        {
          "output_type": "execute_result",
          "data": {
            "text/plain": [
              "RandomForestRegressor(random_state=42)"
            ],
            "text/html": [
              "<style>#sk-container-id-8 {color: black;}#sk-container-id-8 pre{padding: 0;}#sk-container-id-8 div.sk-toggleable {background-color: white;}#sk-container-id-8 label.sk-toggleable__label {cursor: pointer;display: block;width: 100%;margin-bottom: 0;padding: 0.3em;box-sizing: border-box;text-align: center;}#sk-container-id-8 label.sk-toggleable__label-arrow:before {content: \"▸\";float: left;margin-right: 0.25em;color: #696969;}#sk-container-id-8 label.sk-toggleable__label-arrow:hover:before {color: black;}#sk-container-id-8 div.sk-estimator:hover label.sk-toggleable__label-arrow:before {color: black;}#sk-container-id-8 div.sk-toggleable__content {max-height: 0;max-width: 0;overflow: hidden;text-align: left;background-color: #f0f8ff;}#sk-container-id-8 div.sk-toggleable__content pre {margin: 0.2em;color: black;border-radius: 0.25em;background-color: #f0f8ff;}#sk-container-id-8 input.sk-toggleable__control:checked~div.sk-toggleable__content {max-height: 200px;max-width: 100%;overflow: auto;}#sk-container-id-8 input.sk-toggleable__control:checked~label.sk-toggleable__label-arrow:before {content: \"▾\";}#sk-container-id-8 div.sk-estimator input.sk-toggleable__control:checked~label.sk-toggleable__label {background-color: #d4ebff;}#sk-container-id-8 div.sk-label input.sk-toggleable__control:checked~label.sk-toggleable__label {background-color: #d4ebff;}#sk-container-id-8 input.sk-hidden--visually {border: 0;clip: rect(1px 1px 1px 1px);clip: rect(1px, 1px, 1px, 1px);height: 1px;margin: -1px;overflow: hidden;padding: 0;position: absolute;width: 1px;}#sk-container-id-8 div.sk-estimator {font-family: monospace;background-color: #f0f8ff;border: 1px dotted black;border-radius: 0.25em;box-sizing: border-box;margin-bottom: 0.5em;}#sk-container-id-8 div.sk-estimator:hover {background-color: #d4ebff;}#sk-container-id-8 div.sk-parallel-item::after {content: \"\";width: 100%;border-bottom: 1px solid gray;flex-grow: 1;}#sk-container-id-8 div.sk-label:hover label.sk-toggleable__label {background-color: #d4ebff;}#sk-container-id-8 div.sk-serial::before {content: \"\";position: absolute;border-left: 1px solid gray;box-sizing: border-box;top: 0;bottom: 0;left: 50%;z-index: 0;}#sk-container-id-8 div.sk-serial {display: flex;flex-direction: column;align-items: center;background-color: white;padding-right: 0.2em;padding-left: 0.2em;position: relative;}#sk-container-id-8 div.sk-item {position: relative;z-index: 1;}#sk-container-id-8 div.sk-parallel {display: flex;align-items: stretch;justify-content: center;background-color: white;position: relative;}#sk-container-id-8 div.sk-item::before, #sk-container-id-8 div.sk-parallel-item::before {content: \"\";position: absolute;border-left: 1px solid gray;box-sizing: border-box;top: 0;bottom: 0;left: 50%;z-index: -1;}#sk-container-id-8 div.sk-parallel-item {display: flex;flex-direction: column;z-index: 1;position: relative;background-color: white;}#sk-container-id-8 div.sk-parallel-item:first-child::after {align-self: flex-end;width: 50%;}#sk-container-id-8 div.sk-parallel-item:last-child::after {align-self: flex-start;width: 50%;}#sk-container-id-8 div.sk-parallel-item:only-child::after {width: 0;}#sk-container-id-8 div.sk-dashed-wrapped {border: 1px dashed gray;margin: 0 0.4em 0.5em 0.4em;box-sizing: border-box;padding-bottom: 0.4em;background-color: white;}#sk-container-id-8 div.sk-label label {font-family: monospace;font-weight: bold;display: inline-block;line-height: 1.2em;}#sk-container-id-8 div.sk-label-container {text-align: center;}#sk-container-id-8 div.sk-container {/* jupyter's `normalize.less` sets `[hidden] { display: none; }` but bootstrap.min.css set `[hidden] { display: none !important; }` so we also need the `!important` here to be able to override the default hidden behavior on the sphinx rendered scikit-learn.org. See: https://github.com/scikit-learn/scikit-learn/issues/21755 */display: inline-block !important;position: relative;}#sk-container-id-8 div.sk-text-repr-fallback {display: none;}</style><div id=\"sk-container-id-8\" class=\"sk-top-container\"><div class=\"sk-text-repr-fallback\"><pre>RandomForestRegressor(random_state=42)</pre><b>In a Jupyter environment, please rerun this cell to show the HTML representation or trust the notebook. <br />On GitHub, the HTML representation is unable to render, please try loading this page with nbviewer.org.</b></div><div class=\"sk-container\" hidden><div class=\"sk-item\"><div class=\"sk-estimator sk-toggleable\"><input class=\"sk-toggleable__control sk-hidden--visually\" id=\"sk-estimator-id-8\" type=\"checkbox\" checked><label for=\"sk-estimator-id-8\" class=\"sk-toggleable__label sk-toggleable__label-arrow\">RandomForestRegressor</label><div class=\"sk-toggleable__content\"><pre>RandomForestRegressor(random_state=42)</pre></div></div></div></div></div>"
            ]
          },
          "metadata": {},
          "execution_count": 103
        }
      ]
    },
    {
      "cell_type": "markdown",
      "source": [
        "Evaluating Random Forest Regressor"
      ],
      "metadata": {
        "id": "TwUbs8O4yEBQ"
      }
    },
    {
      "cell_type": "code",
      "source": [
        "y_pred_rf = rf_regressor.predict(X_test)\n",
        "r2_rf = r2_score(y_test, y_pred_rf)\n",
        "mse_rf = mean_squared_error(y_test, y_pred_rf)\n",
        "rmse_rf = np.sqrt(mse_rf)\n",
        "mae_rf = mean_absolute_error(y_test, y_pred_rf)"
      ],
      "metadata": {
        "id": "4ecuQ7CuyDpq"
      },
      "execution_count": 104,
      "outputs": []
    },
    {
      "cell_type": "code",
      "source": [
        "print(\"Random Forest Regressor Performance:\")\n",
        "print(f\"R-squared (R²): {r2_rf:.2f}\")\n",
        "print(f\"Mean Squared Error (MSE): {mse_rf:.2f}\")\n",
        "print(f\"Root Mean Squared Error (RMSE): {rmse_rf:.2f}\")\n",
        "print(f\"Mean Absolute Error (MAE): {mae_rf:.2f}\")"
      ],
      "metadata": {
        "colab": {
          "base_uri": "https://localhost:8080/"
        },
        "id": "FbROI47dN2y3",
        "outputId": "6f8e04c7-3a59-4ac6-91f1-a85b620e9490"
      },
      "execution_count": 105,
      "outputs": [
        {
          "output_type": "stream",
          "name": "stdout",
          "text": [
            "Random Forest Regressor Performance:\n",
            "R-squared (R²): 0.87\n",
            "Mean Squared Error (MSE): 187.51\n",
            "Root Mean Squared Error (RMSE): 13.69\n",
            "Mean Absolute Error (MAE): 10.04\n"
          ]
        }
      ]
    },
    {
      "cell_type": "markdown",
      "source": [
        "Compare R² scores"
      ],
      "metadata": {
        "id": "ynbk4063yNIF"
      }
    },
    {
      "cell_type": "code",
      "source": [
        "models = ['CNN', 'Decision Tree', 'Random Forest']\n",
        "r2_scores = [r2, r2_dt, r2_rf]\n",
        "\n",
        "plt.figure(figsize=(10, 6))\n",
        "plt.bar(models, r2_scores, color=['blue', 'green', 'orange'])\n",
        "plt.xlabel('Model')\n",
        "plt.ylabel('R-squared (R²)')\n",
        "plt.title('Comparison of R-squared (R²) Scores')\n",
        "plt.ylim(0, 1)\n",
        "plt.show()"
      ],
      "metadata": {
        "id": "XyOAG9A1dfPt",
        "colab": {
          "base_uri": "https://localhost:8080/",
          "height": 564
        },
        "outputId": "315cbe77-32d3-40c5-9e0a-c16e82a4b7de"
      },
      "execution_count": 106,
      "outputs": [
        {
          "output_type": "display_data",
          "data": {
            "text/plain": [
              "<Figure size 1000x600 with 1 Axes>"
            ],
            "image/png": "[encoded data removed]"
          },
          "metadata": {}
        }
      ]
    },
    {
      "cell_type": "markdown",
      "source": [
        "##Conclusion\n",
        "\n",
        "In this project, we developed a Convolutional Neural Network (CNN) to estimate crop yields based on historical data and various predictive features. The dataset used was from the Syngenta Crop Challenge 2018, which included a variety of factors influencing crop yield.\n",
        "\n",
        "**Key Steps and Findings:**\n",
        "1. **Data Pre-processing:** We standardized the dataset and split it into training and testing sets. The features were reshaped appropriately for input into the CNN.\n",
        "2. **Model Development:** A CNN model was constructed with multiple convolutional layers, followed by dense layers, to capture complex patterns in the data.\n",
        "3. **Training and Evaluation:** The CNN model was trained over 20 epochs, and its performance was evaluated using the R-squared (R²) metric. The R² score for the CNN model was calculated, indicating how well the model's predictions matched the actual yields.\n",
        "4. **Comparison with Other Models:** We compared the CNN model's performance with Decision Tree Regressor and Random Forest Regressor models. The R² scores of these models were also calculated and visualized for comparison.\n",
        "5. **Training and Validation Loss:** The training and validation loss over epochs were plotted to assess the model's learning and generalization capability.\n",
        "\n",
        "**Performance Comparison:**\n",
        "- **CNN Model:** Achieved an R-squared (R²) score of `r2`.\n",
        "- **Decision Tree Regressor:** Achieved an R-squared (R²) score of `r2_dt`.\n",
        "- **Random Forest Regressor:** Achieved an R-squared (R²) score of `r2_rf`.\n",
        "\n",
        "The CNN model demonstrated its capability to capture complex patterns in the data, showing competitive performance compared to traditional machine learning models like Decision Tree and Random Forest Regressors.\n",
        "\n",
        "This project underscores the potential of deep learning models in the field of agriculture, particularly for tasks like crop yield estimation, which can significantly impact decision-making and resource management."
      ],
      "metadata": {
        "id": "qXYVGcaEhVL-"
      }
    }
  ]
}